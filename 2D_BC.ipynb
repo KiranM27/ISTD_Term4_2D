{
 "cells": [
  {
   "cell_type": "code",
   "execution_count": 33,
   "metadata": {},
   "outputs": [
    {
     "name": "stdout",
     "output_type": "stream",
     "text": [
      "Xa0 A0 B0 op0 s1c0 S0 p0 g0 op0b0 ComponentA\n",
      "Xa1 A1 B1 op0 s1c1 S1 p1 g1 op0b1 ComponentA\n",
      "Xa2 A2 B2 op0 s1c2 S2 p2 g2 op0b2 ComponentA\n",
      "Xa3 A3 B3 op0 s1c3 S3 p3 g3 op0b3 ComponentA\n",
      "Xa4 A4 B4 op0 s1c4 S4 p4 g4 op0b4 ComponentA\n",
      "Xa5 A5 B5 op0 s1c5 S5 p5 g5 op0b5 ComponentA\n",
      "Xa6 A6 B6 op0 s1c6 S6 p6 g6 op0b6 ComponentA\n",
      "Xa7 A7 B7 op0 s1c7 S7 p7 g7 op0b7 ComponentA\n",
      "Xa8 A8 B8 op0 s1c8 S8 p8 g8 op0b8 ComponentA\n",
      "Xa9 A9 B9 op0 s1c9 S9 p9 g9 op0b9 ComponentA\n",
      "Xa10 A10 B10 op0 s1c10 S10 p10 g10 op0b10 ComponentA\n",
      "Xa11 A11 B11 op0 s1c11 S11 p11 g11 op0b11 ComponentA\n",
      "Xa12 A12 B12 op0 s1c12 S12 p12 g12 op0b12 ComponentA\n",
      "Xa13 A13 B13 op0 s1c13 S13 p13 g13 op0b13 ComponentA\n",
      "Xa14 A14 B14 op0 s1c14 S14 p14 g14 op0b14 ComponentA\n",
      "Xa15 A15 B15 op0 s1c15 S15 p15 g15 op0b15 ComponentA\n",
      "Xa16 A16 B16 op0 s1c16 S16 p16 g16 op0b16 ComponentA\n",
      "Xa17 A17 B17 op0 s1c17 S17 p17 g17 op0b17 ComponentA\n",
      "Xa18 A18 B18 op0 s1c18 S18 p18 g18 op0b18 ComponentA\n",
      "Xa19 A19 B19 op0 s1c19 S19 p19 g19 op0b19 ComponentA\n",
      "Xa20 A20 B20 op0 s1c20 S20 p20 g20 op0b20 ComponentA\n",
      "Xa21 A21 B21 op0 s1c21 S21 p21 g21 op0b21 ComponentA\n",
      "Xa22 A22 B22 op0 s1c22 S22 p22 g22 op0b22 ComponentA\n",
      "Xa23 A23 B23 op0 s1c23 S23 p23 g23 op0b23 ComponentA\n",
      "Xa24 A24 B24 op0 s1c24 S24 p24 g24 op0b24 ComponentA\n",
      "Xa25 A25 B25 op0 s1c25 S25 p25 g25 op0b25 ComponentA\n",
      "Xa26 A26 B26 op0 s1c26 S26 p26 g26 op0b26 ComponentA\n",
      "Xa27 A27 B27 op0 s1c27 S27 p27 g27 op0b27 ComponentA\n",
      "Xa28 A28 B28 op0 s1c28 S28 p28 g28 op0b28 ComponentA\n",
      "Xa29 A29 B29 op0 s1c29 S29 p29 g29 op0b29 ComponentA\n",
      "Xa30 A30 B30 op0 s1c30 S30 p30 g30 op0b30 ComponentA\n",
      "Xa31 A31 B31 op0 s1c31 S31 p31 g31 op0b31 ComponentA\n"
     ]
    }
   ],
   "source": [
    "i = 0\n",
    "for i in range(32):\n",
    "    k = str(i)\n",
    "    print(f\"Xa{k} A{k} B{k} op0 s1c{k} S{k} p{k} g{k} op0b{i} ComponentA\")\n",
    "    i += 1"
   ]
  },
  {
   "cell_type": "code",
   "execution_count": 32,
   "metadata": {},
   "outputs": [
    {
     "name": "stdout",
     "output_type": "stream",
     "text": [
      "Xb10 sp1g1 sp1p1 g0 p0 c0 gk1_0 pk1_0 c0 c1 modB\n",
      "Xb11 sp1g3 sp1p3 g2 p2 c2 gk3_2 pk3_2 c2 c3 modB\n",
      "Xb12 sp1g5 sp1p5 g4 p4 c4 gk5_4 pk5_4 c4 c5 modB\n",
      "Xb13 sp1g7 sp1p7 g6 p6 c6 gk7_6 pk7_6 c6 c7 modB\n",
      "Xb14 sp1g9 sp1p9 g8 p8 c8 gk9_8 pk9_8 c8 c9 modB\n",
      "Xb15 sp1g11 sp1p11 g10 p10 c10 gk11_10 pk11_10 c10 c11 modB\n",
      "Xb16 sp1g13 sp1p13 g12 p12 c12 gk13_12 pk13_12 c12 c13 modB\n",
      "Xb17 sp1g15 sp1p15 g14 p14 c14 gk15_14 pk15_14 c14 c15 modB\n",
      "Xb18 sp1g17 sp1p17 g16 p16 c16 gk17_16 pk17_16 c16 c17 modB\n",
      "Xb19 sp1g19 sp1p19 g18 p18 c18 gk19_18 pk19_18 c18 c19 modB\n",
      "Xb110 sp1g21 sp1p21 g20 p20 c20 gk21_20 pk21_20 c20 c21 modB\n",
      "Xb111 sp1g23 sp1p23 g22 p22 c22 gk23_22 pk23_22 c22 c23 modB\n",
      "Xb112 sp1g25 sp1p25 g24 p24 c24 gk25_24 pk25_24 c24 c25 modB\n",
      "Xb113 sp1g27 sp1p27 g26 p26 c26 gk27_26 pk27_26 c26 c27 modB\n",
      "Xb114 sp1g29 sp1p29 g28 p28 c28 gk29_28 pk29_28 c28 c29 modB\n",
      "Xb115 sp1g31 sp1p31 g30 p30 c30 gk31_30 pk31_30 c30 c31 modB\n"
     ]
    }
   ],
   "source": [
    "for i in range(16):\n",
    "    j = str(i)\n",
    "    odd = str(2*i + 1)\n",
    "    even = str(2*i)\n",
    "    print(f\"Xb1{i} sp1g{odd} sp1p{odd} g{even} p{even} c{even} gk{odd}_{even} pk{odd}_{even} c{even} c{odd} modB\")"
   ]
  },
  {
   "cell_type": "code",
   "execution_count": 11,
   "metadata": {},
   "outputs": [
    {
     "name": "stdout",
     "output_type": "stream",
     "text": [
      "Xb20 gk3_2 pk3_2 gk1_0 pk1_0 c0 gk3_0 pk3_0 c0 c2 modB\n",
      "Xb21 gk7_6 pk7_6 gk5_4 pk5_4 c4 gk7_4 pk7_4 c4 c6 modB\n",
      "Xb22 gk11_10 pk11_10 gk9_8 pk9_8 c8 gk11_8 pk11_8 c8 c10 modB\n",
      "Xb23 gk15_14 pk15_14 gk13_12 pk13_12 c12 gk15_12 pk15_12 c12 c14 modB\n",
      "Xb24 gk19_18 pk19_18 gk17_16 pk17_16 c16 gk19_16 pk19_16 c16 c18 modB\n",
      "Xb25 gk23_22 pk23_22 gk21_20 pk21_20 c20 gk23_20 pk23_20 c20 c22 modB\n",
      "Xb26 gk27_26 pk27_26 gk25_24 pk25_24 c24 gk27_24 pk27_24 c24 c26 modB\n",
      "Xb27 gk31_30 pk31_30 gk29_28 pk29_28 c28 gk31_28 pk31_28 c28 c30 modB\n"
     ]
    }
   ],
   "source": [
    "for i in range(8):\n",
    "    stri = str(i)\n",
    "    k = str(4*i + 3)\n",
    "    jp1 = str(4*i + 2)\n",
    "    jp = str(4*i + 1)\n",
    "    inti = str(4*i)\n",
    "    print(f\"Xb2{stri} gk{k}_{jp1} pk{k}_{jp1} gk{jp}_{inti} pk{jp}_{inti} c{inti} gk{k}_{inti} pk{k}_{inti} c{inti} c{jp1} modB\")"
   ]
  },
  {
   "cell_type": "code",
   "execution_count": 13,
   "metadata": {},
   "outputs": [
    {
     "name": "stdout",
     "output_type": "stream",
     "text": [
      "Xb30 gk7_4 pk7_4 gk3_0 pk3_0 c0 gk7_0 pk7_0 c0 c4 modB\n",
      "Xb31 gk15_12 pk15_12 gk11_8 pk11_8 c8 gk15_8 pk15_8 c8 c12 modB\n",
      "Xb32 gk23_20 pk23_20 gk19_16 pk19_16 c16 gk23_16 pk23_16 c16 c20 modB\n",
      "Xb33 gk31_28 pk31_28 gk27_24 pk27_24 c24 gk31_24 pk31_24 c24 c28 modB\n"
     ]
    }
   ],
   "source": [
    "for i in range(4):\n",
    "    stri = str(i)\n",
    "    k = str(8*i + 7)\n",
    "    jp1 = str(8*i + 4)\n",
    "    jp = str(8*i + 3)\n",
    "    inti = str(8*i)\n",
    "    print(f\"Xb3{stri} gk{k}_{jp1} pk{k}_{jp1} gk{jp}_{inti} pk{jp}_{inti} c{inti} gk{k}_{inti} pk{k}_{inti} c{inti} c{jp1} modB\")"
   ]
  },
  {
   "cell_type": "code",
   "execution_count": 17,
   "metadata": {},
   "outputs": [
    {
     "name": "stdout",
     "output_type": "stream",
     "text": [
      "Xb50 gk31_16 pk31_16 gk15_0 pk15_0 c0 gk31_0 pk31_0 c0 c16 modB\n"
     ]
    }
   ],
   "source": [
    "for i in range(1):\n",
    "    stri = str(i)\n",
    "    k = str(32*i + 31)\n",
    "    jp1 = str(32*i + 16)\n",
    "    jp = str(32*i + 15)\n",
    "    inti = str(32*i)\n",
    "    print(f\"Xb5{stri} gk{k}_{jp1} pk{k}_{jp1} gk{jp}_{inti} pk{jp}_{inti} c{inti} gk{k}_{inti} pk{k}_{inti} c{inti} c{jp1} modB\")"
   ]
  },
  {
   "cell_type": "markdown",
   "metadata": {},
   "source": [
    "## Han Carlson"
   ]
  },
  {
   "cell_type": "code",
   "execution_count": 10,
   "metadata": {},
   "outputs": [
    {
     "name": "stdout",
     "output_type": "stream",
     "text": [
      "Xa0 A0 B0 op0 p0 g0 op0b0 PG\n",
      "Xa1 A1 B1 op0 p1 g1 op0b1 PG\n",
      "Xa2 A2 B2 op0 p2 g2 op0b2 PG\n",
      "Xa3 A3 B3 op0 p3 g3 op0b3 PG\n",
      "Xa4 A4 B4 op0 p4 g4 op0b4 PG\n",
      "Xa5 A5 B5 op0 p5 g5 op0b5 PG\n",
      "Xa6 A6 B6 op0 p6 g6 op0b6 PG\n",
      "Xa7 A7 B7 op0 p7 g7 op0b7 PG\n",
      "Xa8 A8 B8 op0 p8 g8 op0b8 PG\n",
      "Xa9 A9 B9 op0 p9 g9 op0b9 PG\n",
      "Xa10 A10 B10 op0 p10 g10 op0b10 PG\n",
      "Xa11 A11 B11 op0 p11 g11 op0b11 PG\n",
      "Xa12 A12 B12 op0 p12 g12 op0b12 PG\n",
      "Xa13 A13 B13 op0 p13 g13 op0b13 PG\n",
      "Xa14 A14 B14 op0 p14 g14 op0b14 PG\n",
      "Xa15 A15 B15 op0 p15 g15 op0b15 PG\n",
      "Xa16 A16 B16 op0 p16 g16 op0b16 PG\n",
      "Xa17 A17 B17 op0 p17 g17 op0b17 PG\n",
      "Xa18 A18 B18 op0 p18 g18 op0b18 PG\n",
      "Xa19 A19 B19 op0 p19 g19 op0b19 PG\n",
      "Xa20 A20 B20 op0 p20 g20 op0b20 PG\n",
      "Xa21 A21 B21 op0 p21 g21 op0b21 PG\n",
      "Xa22 A22 B22 op0 p22 g22 op0b22 PG\n",
      "Xa23 A23 B23 op0 p23 g23 op0b23 PG\n",
      "Xa24 A24 B24 op0 p24 g24 op0b24 PG\n",
      "Xa25 A25 B25 op0 p25 g25 op0b25 PG\n",
      "Xa26 A26 B26 op0 p26 g26 op0b26 PG\n",
      "Xa27 A27 B27 op0 p27 g27 op0b27 PG\n",
      "Xa28 A28 B28 op0 p28 g28 op0b28 PG\n",
      "Xa29 A29 B29 op0 p29 g29 op0b29 PG\n",
      "Xa30 A30 B30 op0 p30 g30 op0b30 PG\n",
      "Xa31 A31 B31 op0 p31 g31 op0b31 PG\n"
     ]
    }
   ],
   "source": [
    "for i in range(32):\n",
    "    j = str(i)\n",
    "    print(f\"Xa{j} A{j} B{j} op0 p{j} g{j} op0b{j} PG\")"
   ]
  },
  {
   "cell_type": "code",
   "execution_count": 13,
   "metadata": {},
   "outputs": [
    {
     "name": "stdout",
     "output_type": "stream",
     "text": [
      "Xb00 g1 p1 g0 p0 g_1_0 p_1_0 BB\n",
      "Xb01 g3 p3 g2 p2 g_3_2 p_3_2 BB\n",
      "Xb02 g5 p5 g4 p4 g_5_4 p_5_4 BB\n",
      "Xb03 g7 p7 g6 p6 g_7_6 p_7_6 BB\n",
      "Xb04 g9 p9 g8 p8 g_9_8 p_9_8 BB\n",
      "Xb05 g11 p11 g10 p10 g_11_10 p_11_10 BB\n",
      "Xb06 g13 p13 g12 p12 g_13_12 p_13_12 BB\n",
      "Xb07 g15 p15 g14 p14 g_15_14 p_15_14 BB\n",
      "Xb08 g17 p17 g16 p16 g_17_16 p_17_16 BB\n",
      "Xb09 g19 p19 g18 p18 g_19_18 p_19_18 BB\n",
      "Xb010 g21 p21 g20 p20 g_21_20 p_21_20 BB\n",
      "Xb011 g23 p23 g22 p22 g_23_22 p_23_22 BB\n",
      "Xb012 g25 p25 g24 p24 g_25_24 p_25_24 BB\n",
      "Xb013 g27 p27 g26 p26 g_27_26 p_27_26 BB\n",
      "Xb014 g29 p29 g28 p28 g_29_28 p_29_28 BB\n",
      "Xb015 g31 p31 g30 p30 g_31_30 p_31_30 BB\n"
     ]
    }
   ],
   "source": [
    "for i in range(16):\n",
    "    j = str(i)\n",
    "    q = str(2*i + 1)\n",
    "    w = str(2*i)\n",
    "    print(f\"Xb0{i} g{q} p{q} g{w} p{w} g_{q}_{w} p_{q}_{w} BB\")"
   ]
  },
  {
   "cell_type": "code",
   "execution_count": 8,
   "metadata": {},
   "outputs": [
    {
     "name": "stdout",
     "output_type": "stream",
     "text": [
      "Xb10 cm0g_3_2 cm0p_3_2 cm0g_1_0 cm0p_1_0 cm1g_3_0 cm1p_3_0 B\n",
      "Xb11 cm0g_7_6 cm0p_7_6 cm0g_5_4 cm0p_5_4 cm1g_7_4 cm1p_7_4 B\n"
     ]
    }
   ],
   "source": [
    "for i in range(2):\n",
    "    j = str(i)\n",
    "    q = str(4*i + 3)\n",
    "    w = str(4*i + 2)\n",
    "    e = str(4*i + 1)\n",
    "    r = str(4*i)\n",
    "    \n",
    "    print(f\"Xb1{i} cm0g_{q}_{w} cm0p_{q}_{w} cm0g_{e}_{r} cm0p_{e}_{r} cm1g_{q}_{r} cm1p_{q}_{r} B\")"
   ]
  },
  {
   "cell_type": "markdown",
   "metadata": {},
   "source": [
    "## Kogge Stone"
   ]
  },
  {
   "cell_type": "code",
   "execution_count": 14,
   "metadata": {},
   "outputs": [
    {
     "name": "stdout",
     "output_type": "stream",
     "text": [
      "Xb01 g1 p1 g0 p0 g_1_0 p_1_0 BB\n",
      "Xb02 g2 p2 g1 p1 g_2_1 p_2_1 BB\n",
      "Xb03 g3 p3 g2 p2 g_3_2 p_3_2 BB\n",
      "Xb04 g4 p4 g3 p3 g_4_3 p_4_3 BB\n",
      "Xb05 g5 p5 g4 p4 g_5_4 p_5_4 BB\n",
      "Xb06 g6 p6 g5 p5 g_6_5 p_6_5 BB\n",
      "Xb07 g7 p7 g6 p6 g_7_6 p_7_6 BB\n",
      "Xb08 g8 p8 g7 p7 g_8_7 p_8_7 BB\n",
      "Xb09 g9 p9 g8 p8 g_9_8 p_9_8 BB\n",
      "Xb010 g10 p10 g9 p9 g_10_9 p_10_9 BB\n",
      "Xb011 g11 p11 g10 p10 g_11_10 p_11_10 BB\n",
      "Xb012 g12 p12 g11 p11 g_12_11 p_12_11 BB\n",
      "Xb013 g13 p13 g12 p12 g_13_12 p_13_12 BB\n",
      "Xb014 g14 p14 g13 p13 g_14_13 p_14_13 BB\n",
      "Xb015 g15 p15 g14 p14 g_15_14 p_15_14 BB\n",
      "Xb016 g16 p16 g15 p15 g_16_15 p_16_15 BB\n",
      "Xb017 g17 p17 g16 p16 g_17_16 p_17_16 BB\n",
      "Xb018 g18 p18 g17 p17 g_18_17 p_18_17 BB\n",
      "Xb019 g19 p19 g18 p18 g_19_18 p_19_18 BB\n",
      "Xb020 g20 p20 g19 p19 g_20_19 p_20_19 BB\n",
      "Xb021 g21 p21 g20 p20 g_21_20 p_21_20 BB\n",
      "Xb022 g22 p22 g21 p21 g_22_21 p_22_21 BB\n",
      "Xb023 g23 p23 g22 p22 g_23_22 p_23_22 BB\n",
      "Xb024 g24 p24 g23 p23 g_24_23 p_24_23 BB\n",
      "Xb025 g25 p25 g24 p24 g_25_24 p_25_24 BB\n",
      "Xb026 g26 p26 g25 p25 g_26_25 p_26_25 BB\n",
      "Xb027 g27 p27 g26 p26 g_27_26 p_27_26 BB\n",
      "Xb028 g28 p28 g27 p27 g_28_27 p_28_27 BB\n",
      "Xb029 g29 p29 g28 p28 g_29_28 p_29_28 BB\n",
      "Xb030 g30 p30 g29 p29 g_30_29 p_30_29 BB\n",
      "Xb031 g31 p31 g30 p30 g_31_30 p_31_30 BB\n"
     ]
    }
   ],
   "source": [
    "for i in range(1,32):\n",
    "    j = str(i)\n",
    "    q = str(i-1)\n",
    "    print(f\"Xb0{j} g{i} p{i} g{q} p{q} g_{j}_{q} p_{j}_{q} BB\") "
   ]
  },
  {
   "cell_type": "code",
   "execution_count": 15,
   "metadata": {},
   "outputs": [
    {
     "name": "stdout",
     "output_type": "stream",
     "text": [
      "Xa0 A0 B0 op0 p0 g0 op0b0 PG\n",
      "Xa1 A1 B1 op0 p1 g1 op0b1 PG\n",
      "Xa2 A2 B2 op0 p2 g2 op0b2 PG\n",
      "Xa3 A3 B3 op0 p3 g3 op0b3 PG\n",
      "Xa4 A4 B4 op0 p4 g4 op0b4 PG\n",
      "Xa5 A5 B5 op0 p5 g5 op0b5 PG\n",
      "Xa6 A6 B6 op0 p6 g6 op0b6 PG\n",
      "Xa7 A7 B7 op0 p7 g7 op0b7 PG\n",
      "Xa8 A8 B8 op0 p8 g8 op0b8 PG\n",
      "Xa9 A9 B9 op0 p9 g9 op0b9 PG\n",
      "Xa10 A10 B10 op0 p10 g10 op0b10 PG\n",
      "Xa11 A11 B11 op0 p11 g11 op0b11 PG\n",
      "Xa12 A12 B12 op0 p12 g12 op0b12 PG\n",
      "Xa13 A13 B13 op0 p13 g13 op0b13 PG\n",
      "Xa14 A14 B14 op0 p14 g14 op0b14 PG\n",
      "Xa15 A15 B15 op0 p15 g15 op0b15 PG\n",
      "Xa16 A16 B16 op0 p16 g16 op0b16 PG\n",
      "Xa17 A17 B17 op0 p17 g17 op0b17 PG\n",
      "Xa18 A18 B18 op0 p18 g18 op0b18 PG\n",
      "Xa19 A19 B19 op0 p19 g19 op0b19 PG\n",
      "Xa20 A20 B20 op0 p20 g20 op0b20 PG\n",
      "Xa21 A21 B21 op0 p21 g21 op0b21 PG\n",
      "Xa22 A22 B22 op0 p22 g22 op0b22 PG\n",
      "Xa23 A23 B23 op0 p23 g23 op0b23 PG\n",
      "Xa24 A24 B24 op0 p24 g24 op0b24 PG\n",
      "Xa25 A25 B25 op0 p25 g25 op0b25 PG\n",
      "Xa26 A26 B26 op0 p26 g26 op0b26 PG\n",
      "Xa27 A27 B27 op0 p27 g27 op0b27 PG\n",
      "Xa28 A28 B28 op0 p28 g28 op0b28 PG\n",
      "Xa29 A29 B29 op0 p29 g29 op0b29 PG\n",
      "Xa30 A30 B30 op0 p30 g30 op0b30 PG\n",
      "Xa31 A31 B31 op0 p31 g31 op0b31 PG\n"
     ]
    }
   ],
   "source": [
    "for i in range(32):\n",
    "    # Xa3 A3 B3 op0 p3 g3 op0b3 PG\n",
    "    j = str(i)\n",
    "    print(f\"Xa{i} A{i} B{i} op0 p{i} g{i} op0b{i} PG\")"
   ]
  },
  {
   "cell_type": "code",
   "execution_count": 18,
   "metadata": {},
   "outputs": [
    {
     "name": "stdout",
     "output_type": "stream",
     "text": [
      "Xb13 g_3_2 p_3_2 g_1_0 p_1_0 g_3_0 p_3_0 BB\n",
      "Xb14 g_4_3 p_4_3 g_2_1 p_2_1 g_4_1 p_4_1 BB\n",
      "Xb15 g_5_4 p_5_4 g_3_2 p_3_2 g_5_2 p_5_2 BB\n",
      "Xb16 g_6_5 p_6_5 g_4_3 p_4_3 g_6_3 p_6_3 BB\n",
      "Xb17 g_7_6 p_7_6 g_5_4 p_5_4 g_7_4 p_7_4 BB\n",
      "Xb18 g_8_7 p_8_7 g_6_5 p_6_5 g_8_5 p_8_5 BB\n",
      "Xb19 g_9_8 p_9_8 g_7_6 p_7_6 g_9_6 p_9_6 BB\n",
      "Xb110 g_10_9 p_10_9 g_8_7 p_8_7 g_10_7 p_10_7 BB\n",
      "Xb111 g_11_10 p_11_10 g_9_8 p_9_8 g_11_8 p_11_8 BB\n",
      "Xb112 g_12_11 p_12_11 g_10_9 p_10_9 g_12_9 p_12_9 BB\n",
      "Xb113 g_13_12 p_13_12 g_11_10 p_11_10 g_13_10 p_13_10 BB\n",
      "Xb114 g_14_13 p_14_13 g_12_11 p_12_11 g_14_11 p_14_11 BB\n",
      "Xb115 g_15_14 p_15_14 g_13_12 p_13_12 g_15_12 p_15_12 BB\n",
      "Xb116 g_16_15 p_16_15 g_14_13 p_14_13 g_16_13 p_16_13 BB\n",
      "Xb117 g_17_16 p_17_16 g_15_14 p_15_14 g_17_14 p_17_14 BB\n",
      "Xb118 g_18_17 p_18_17 g_16_15 p_16_15 g_18_15 p_18_15 BB\n",
      "Xb119 g_19_18 p_19_18 g_17_16 p_17_16 g_19_16 p_19_16 BB\n",
      "Xb120 g_20_19 p_20_19 g_18_17 p_18_17 g_20_17 p_20_17 BB\n",
      "Xb121 g_21_20 p_21_20 g_19_18 p_19_18 g_21_18 p_21_18 BB\n",
      "Xb122 g_22_21 p_22_21 g_20_19 p_20_19 g_22_19 p_22_19 BB\n",
      "Xb123 g_23_22 p_23_22 g_21_20 p_21_20 g_23_20 p_23_20 BB\n",
      "Xb124 g_24_23 p_24_23 g_22_21 p_22_21 g_24_21 p_24_21 BB\n",
      "Xb125 g_25_24 p_25_24 g_23_22 p_23_22 g_25_22 p_25_22 BB\n",
      "Xb126 g_26_25 p_26_25 g_24_23 p_24_23 g_26_23 p_26_23 BB\n",
      "Xb127 g_27_26 p_27_26 g_25_24 p_25_24 g_27_24 p_27_24 BB\n",
      "Xb128 g_28_27 p_28_27 g_26_25 p_26_25 g_28_25 p_28_25 BB\n",
      "Xb129 g_29_28 p_29_28 g_27_26 p_27_26 g_29_26 p_29_26 BB\n",
      "Xb130 g_30_29 p_30_29 g_28_27 p_28_27 g_30_27 p_30_27 BB\n",
      "Xb131 g_31_30 p_31_30 g_29_28 p_29_28 g_31_28 p_31_28 BB\n"
     ]
    }
   ],
   "source": [
    "count = 0\n",
    "for i in range(3,32):\n",
    "    # Xb11 g_2_1 p_2_1 g0 p0 g_2_0 p_2_0 BB\n",
    "    q = str(i)\n",
    "    w = str(i-1)\n",
    "    e = str(i-2)\n",
    "    r = str(i-3)\n",
    "    count += 1\n",
    "    print(f\"Xb1{q} g_{q}_{w} p_{q}_{w} g_{e}_{r} p_{e}_{r} g_{q}_{r} p_{q}_{r} BB\")"
   ]
  },
  {
   "cell_type": "code",
   "execution_count": 20,
   "metadata": {},
   "outputs": [
    {
     "name": "stdout",
     "output_type": "stream",
     "text": [
      "29\n"
     ]
    }
   ],
   "source": [
    "print(count)"
   ]
  },
  {
   "cell_type": "code",
   "execution_count": 23,
   "metadata": {},
   "outputs": [
    {
     "name": "stdout",
     "output_type": "stream",
     "text": [
      "Xb35 g_5_2 p_5_2 g_1_-2 p_1_-2 g_5_-2 p_5_-2 BB\n",
      "Xb36 g_6_3 p_6_3 g_2_-1 p_2_-1 g_6_-1 p_6_-1 BB\n",
      "Xb37 g_7_4 p_7_4 g_3_0 p_3_0 g_7_0 p_7_0 BB\n",
      "Xb38 g_8_5 p_8_5 g_4_1 p_4_1 g_8_1 p_8_1 BB\n",
      "Xb39 g_9_6 p_9_6 g_5_2 p_5_2 g_9_2 p_9_2 BB\n",
      "Xb310 g_10_7 p_10_7 g_6_3 p_6_3 g_10_3 p_10_3 BB\n",
      "Xb311 g_11_8 p_11_8 g_7_4 p_7_4 g_11_4 p_11_4 BB\n",
      "Xb312 g_12_9 p_12_9 g_8_5 p_8_5 g_12_5 p_12_5 BB\n",
      "Xb313 g_13_10 p_13_10 g_9_6 p_9_6 g_13_6 p_13_6 BB\n",
      "Xb314 g_14_11 p_14_11 g_10_7 p_10_7 g_14_7 p_14_7 BB\n",
      "Xb315 g_15_12 p_15_12 g_11_8 p_11_8 g_15_8 p_15_8 BB\n",
      "Xb316 g_16_13 p_16_13 g_12_9 p_12_9 g_16_9 p_16_9 BB\n",
      "Xb317 g_17_14 p_17_14 g_13_10 p_13_10 g_17_10 p_17_10 BB\n",
      "Xb318 g_18_15 p_18_15 g_14_11 p_14_11 g_18_11 p_18_11 BB\n",
      "Xb319 g_19_16 p_19_16 g_15_12 p_15_12 g_19_12 p_19_12 BB\n",
      "Xb320 g_20_17 p_20_17 g_16_13 p_16_13 g_20_13 p_20_13 BB\n",
      "Xb321 g_21_18 p_21_18 g_17_14 p_17_14 g_21_14 p_21_14 BB\n",
      "Xb322 g_22_19 p_22_19 g_18_15 p_18_15 g_22_15 p_22_15 BB\n",
      "Xb323 g_23_20 p_23_20 g_19_16 p_19_16 g_23_16 p_23_16 BB\n",
      "Xb324 g_24_21 p_24_21 g_20_17 p_20_17 g_24_17 p_24_17 BB\n",
      "Xb325 g_25_22 p_25_22 g_21_18 p_21_18 g_25_18 p_25_18 BB\n",
      "Xb326 g_26_23 p_26_23 g_22_19 p_22_19 g_26_19 p_26_19 BB\n",
      "Xb327 g_27_24 p_27_24 g_23_20 p_23_20 g_27_20 p_27_20 BB\n",
      "Xb328 g_28_25 p_28_25 g_24_21 p_24_21 g_28_21 p_28_21 BB\n",
      "Xb329 g_29_26 p_29_26 g_25_22 p_25_22 g_29_22 p_29_22 BB\n",
      "Xb330 g_30_27 p_30_27 g_26_23 p_26_23 g_30_23 p_30_23 BB\n",
      "Xb331 g_31_28 p_31_28 g_27_24 p_27_24 g_31_24 p_31_24 BB\n"
     ]
    }
   ],
   "source": [
    "count = 0\n",
    "for i in range(5, 32):\n",
    "    count += 1\n",
    "    q = str(i)\n",
    "    w = str(i-3)\n",
    "    e = str(i-4)\n",
    "    r = str(i-7)\n",
    "    print(f\"Xb3{q} g_{q}_{w} p_{q}_{w} g_{e}_{r} p_{e}_{r} g_{q}_{r} p_{q}_{r} BB\")"
   ]
  },
  {
   "cell_type": "code",
   "execution_count": 24,
   "metadata": {},
   "outputs": [
    {
     "name": "stdout",
     "output_type": "stream",
     "text": [
      "27\n"
     ]
    }
   ],
   "source": [
    "print(count)"
   ]
  },
  {
   "cell_type": "code",
   "execution_count": 31,
   "metadata": {},
   "outputs": [
    {
     "name": "stdout",
     "output_type": "stream",
     "text": [
      "Xb48 g_8_1 p_8_1 g_0_0 p_0_0 g_8_0 p_8_0 BB\n",
      "Xb49 g_9_2 p_9_2 g_1_0 p_1_0 g_9_0 p_9_0 BB\n",
      "Xb410 g_10_3 p_10_3 g_2_0 p_2_0 g_10_0 p_10_0 BB\n",
      "Xb411 g_11_4 p_11_4 g_3_0 p_3_0 g_11_0 p_11_0 BB\n",
      "Xb412 g_12_5 p_12_5 g_4_0 p_4_0 g_12_0 p_12_0 BB\n",
      "Xb413 g_13_6 p_13_6 g_5_0 p_5_0 g_13_0 p_13_0 BB\n",
      "Xb414 g_14_7 p_14_7 g_6_0 p_6_0 g_14_0 p_14_0 BB\n",
      "Xb415 g_15_8 p_15_8 g_7_0 p_7_0 g_15_0 p_15_0 BB\n",
      "Xb416 g_16_9 p_16_9 g_8_1 p_8_1 g_16_1 p_16_1 BB\n",
      "Xb417 g_17_10 p_17_10 g_9_2 p_9_2 g_17_2 p_17_2 BB\n",
      "Xb418 g_18_11 p_18_11 g_10_3 p_10_3 g_18_3 p_18_3 BB\n",
      "Xb419 g_19_12 p_19_12 g_11_4 p_11_4 g_19_4 p_19_4 BB\n",
      "Xb420 g_20_13 p_20_13 g_12_5 p_12_5 g_20_5 p_20_5 BB\n",
      "Xb421 g_21_14 p_21_14 g_13_6 p_13_6 g_21_6 p_21_6 BB\n",
      "Xb422 g_22_15 p_22_15 g_14_7 p_14_7 g_22_7 p_22_7 BB\n",
      "Xb423 g_23_16 p_23_16 g_15_8 p_15_8 g_23_8 p_23_8 BB\n",
      "Xb424 g_24_17 p_24_17 g_16_9 p_16_9 g_24_9 p_24_9 BB\n",
      "Xb425 g_25_18 p_25_18 g_17_10 p_17_10 g_25_10 p_25_10 BB\n",
      "Xb426 g_26_19 p_26_19 g_18_11 p_18_11 g_26_11 p_26_11 BB\n",
      "Xb427 g_27_20 p_27_20 g_19_12 p_19_12 g_27_12 p_27_12 BB\n",
      "Xb428 g_28_21 p_28_21 g_20_13 p_20_13 g_28_13 p_28_13 BB\n",
      "Xb429 g_29_22 p_29_22 g_21_14 p_21_14 g_29_14 p_29_14 BB\n",
      "Xb430 g_30_23 p_30_23 g_22_15 p_22_15 g_30_15 p_30_15 BB\n",
      "Xb431 g_31_24 p_31_24 g_23_16 p_23_16 g_31_16 p_31_16 BB\n"
     ]
    }
   ],
   "source": [
    "count = 0\n",
    "for i in range(8,32):\n",
    "    count += 1\n",
    "    q = str(i)\n",
    "    w = str(i - 7)\n",
    "    e = str(i - 8)\n",
    "    r = str(max(0, i - 8 - 7))\n",
    "    print(f\"Xb4{q} g_{q}_{w} p_{q}_{w} g_{e}_{r} p_{e}_{r} g_{q}_{r} p_{q}_{r} BB\")    "
   ]
  },
  {
   "cell_type": "code",
   "execution_count": 28,
   "metadata": {},
   "outputs": [
    {
     "name": "stdout",
     "output_type": "stream",
     "text": [
      "24\n"
     ]
    }
   ],
   "source": [
    "print(count)"
   ]
  },
  {
   "cell_type": "code",
   "execution_count": 30,
   "metadata": {},
   "outputs": [
    {
     "name": "stdout",
     "output_type": "stream",
     "text": [
      "Xs2 p2 g_1_0 S2 ourXor\n",
      "Xs3 p3 g_2_0 S3 ourXor\n",
      "Xs4 p4 g_3_0 S4 ourXor\n",
      "Xs5 p5 g_4_0 S5 ourXor\n",
      "Xs6 p6 g_5_0 S6 ourXor\n",
      "Xs7 p7 g_6_0 S7 ourXor\n",
      "Xs8 p8 g_7_0 S8 ourXor\n",
      "Xs9 p9 g_8_0 S9 ourXor\n",
      "Xs10 p10 g_9_0 S10 ourXor\n",
      "Xs11 p11 g_10_0 S11 ourXor\n",
      "Xs12 p12 g_11_0 S12 ourXor\n",
      "Xs13 p13 g_12_0 S13 ourXor\n",
      "Xs14 p14 g_13_0 S14 ourXor\n",
      "Xs15 p15 g_14_0 S15 ourXor\n",
      "Xs16 p16 g_15_0 S16 ourXor\n",
      "Xs17 p17 g_16_0 S17 ourXor\n",
      "Xs18 p18 g_17_0 S18 ourXor\n",
      "Xs19 p19 g_18_0 S19 ourXor\n",
      "Xs20 p20 g_19_0 S20 ourXor\n",
      "Xs21 p21 g_20_0 S21 ourXor\n",
      "Xs22 p22 g_21_0 S22 ourXor\n",
      "Xs23 p23 g_22_0 S23 ourXor\n",
      "Xs24 p24 g_23_0 S24 ourXor\n",
      "Xs25 p25 g_24_0 S25 ourXor\n",
      "Xs26 p26 g_25_0 S26 ourXor\n",
      "Xs27 p27 g_26_0 S27 ourXor\n",
      "Xs28 p28 g_27_0 S28 ourXor\n",
      "Xs29 p29 g_28_0 S29 ourXor\n",
      "Xs30 p30 g_29_0 S30 ourXor\n",
      "Xs31 p31 g_30_0 S31 ourXor\n"
     ]
    }
   ],
   "source": [
    "for i in range(2,32):\n",
    "    print(f\"Xs{i} p{str(i)} g_{str(i - 1)}_0 S{i} ourXor\")"
   ]
  },
  {
   "cell_type": "markdown",
   "metadata": {},
   "source": [
    "## CNF"
   ]
  },
  {
   "cell_type": "markdown",
   "metadata": {},
   "source": [
    "C0 = Cin\n",
    "\n",
    "C1 = G0 + P0 C0\n",
    "\n",
    "C2 = G1 + P1 C1\n",
    "\n",
    "C3 = G2 +  G1 P2 + P2 P1 C1 \n",
    "\n",
    "C4 = G3 + P3 P2 P1 C1 + P2 P3 G1 + P3 G2 "
   ]
  },
  {
   "cell_type": "code",
   "execution_count": 108,
   "metadata": {},
   "outputs": [
    {
     "name": "stdout",
     "output_type": "stream",
     "text": [
      "g0 := a0 & xb0;\n",
      "g1 := a1 & xb1;\n",
      "g2 := a2 & xb2;\n",
      "g3 := a3 & xb3;\n",
      "g4 := a4 & xb4;\n",
      "g5 := a5 & xb5;\n",
      "g6 := a6 & xb6;\n",
      "g7 := a7 & xb7;\n",
      "g8 := a8 & xb8;\n",
      "g9 := a9 & xb9;\n",
      "g10 := a10 & xb10;\n",
      "g11 := a11 & xb11;\n",
      "g12 := a12 & xb12;\n",
      "g13 := a13 & xb13;\n",
      "g14 := a14 & xb14;\n",
      "g15 := a15 & xb15;\n",
      "g16 := a16 & xb16;\n",
      "g17 := a17 & xb17;\n",
      "g18 := a18 & xb18;\n",
      "g19 := a19 & xb19;\n",
      "g20 := a20 & xb20;\n",
      "g21 := a21 & xb21;\n",
      "g22 := a22 & xb22;\n",
      "g23 := a23 & xb23;\n",
      "g24 := a24 & xb24;\n",
      "g25 := a25 & xb25;\n",
      "g26 := a26 & xb26;\n",
      "g27 := a27 & xb27;\n",
      "g28 := a28 & xb28;\n",
      "g29 := a29 & xb29;\n",
      "g30 := a30 & xb30;\n",
      "g31 := a31 & xb31;\n"
     ]
    }
   ],
   "source": [
    "for i in range(32):\n",
    "    print(f\"g{i} := a{i} & xb{i};\")"
   ]
  },
  {
   "cell_type": "code",
   "execution_count": 109,
   "metadata": {},
   "outputs": [
    {
     "name": "stdout",
     "output_type": "stream",
     "text": [
      "p0 := a0 ^ xb0;\n",
      "p1 := a1 ^ xb1;\n",
      "p2 := a2 ^ xb2;\n",
      "p3 := a3 ^ xb3;\n",
      "p4 := a4 ^ xb4;\n",
      "p5 := a5 ^ xb5;\n",
      "p6 := a6 ^ xb6;\n",
      "p7 := a7 ^ xb7;\n",
      "p8 := a8 ^ xb8;\n",
      "p9 := a9 ^ xb9;\n",
      "p10 := a10 ^ xb10;\n",
      "p11 := a11 ^ xb11;\n",
      "p12 := a12 ^ xb12;\n",
      "p13 := a13 ^ xb13;\n",
      "p14 := a14 ^ xb14;\n",
      "p15 := a15 ^ xb15;\n",
      "p16 := a16 ^ xb16;\n",
      "p17 := a17 ^ xb17;\n",
      "p18 := a18 ^ xb18;\n",
      "p19 := a19 ^ xb19;\n",
      "p20 := a20 ^ xb20;\n",
      "p21 := a21 ^ xb21;\n",
      "p22 := a22 ^ xb22;\n",
      "p23 := a23 ^ xb23;\n",
      "p24 := a24 ^ xb24;\n",
      "p25 := a25 ^ xb25;\n",
      "p26 := a26 ^ xb26;\n",
      "p27 := a27 ^ xb27;\n",
      "p28 := a28 ^ xb28;\n",
      "p29 := a29 ^ xb29;\n",
      "p30 := a30 ^ xb30;\n",
      "p31 := a31 ^ xb31;\n"
     ]
    }
   ],
   "source": [
    "for i in range(32):\n",
    "    print(f\"p{i} := a{i} ^ xb{i};\")"
   ]
  },
  {
   "cell_type": "code",
   "execution_count": 111,
   "metadata": {
    "scrolled": true
   },
   "outputs": [
    {
     "name": "stdout",
     "output_type": "stream",
     "text": [
      "g_1_0 := g1 | ( p1 & g0 );\n",
      "g_3_2 := g3 | ( p3 & g2 );\n",
      "g_5_4 := g5 | ( p5 & g4 );\n",
      "g_7_6 := g7 | ( p7 & g6 );\n",
      "g_9_8 := g9 | ( p9 & g8 );\n",
      "g_11_10 := g11 | ( p11 & g10 );\n",
      "g_13_12 := g13 | ( p13 & g12 );\n",
      "g_15_14 := g15 | ( p15 & g14 );\n",
      "g_17_16 := g17 | ( p17 & g16 );\n",
      "g_19_18 := g19 | ( p19 & g18 );\n",
      "g_21_20 := g21 | ( p21 & g20 );\n",
      "g_23_22 := g23 | ( p23 & g22 );\n",
      "g_25_24 := g25 | ( p25 & g24 );\n",
      "g_27_26 := g27 | ( p27 & g26 );\n",
      "g_29_28 := g29 | ( p29 & g28 );\n",
      "g_31_30 := g31 | ( p31 & g30 );\n"
     ]
    }
   ],
   "source": [
    "for i in range(16):\n",
    "    print(f\"g_{2*i+1}_{2*i} := g{2*i+1} | ( p{2*i + 1} & g{2*i} );\")"
   ]
  },
  {
   "cell_type": "code",
   "execution_count": 112,
   "metadata": {},
   "outputs": [
    {
     "name": "stdout",
     "output_type": "stream",
     "text": [
      "p_1_0 := p1 & p0;\n",
      "p_3_2 := p3 & p2;\n",
      "p_5_4 := p5 & p4;\n",
      "p_7_6 := p7 & p6;\n",
      "p_9_8 := p9 & p8;\n",
      "p_11_10 := p11 & p10;\n",
      "p_13_12 := p13 & p12;\n",
      "p_15_14 := p15 & p14;\n",
      "p_17_16 := p17 & p16;\n",
      "p_19_18 := p19 & p18;\n",
      "p_21_20 := p21 & p20;\n",
      "p_23_22 := p23 & p22;\n",
      "p_25_24 := p25 & p24;\n",
      "p_27_26 := p27 & p26;\n",
      "p_29_28 := p29 & p28;\n",
      "p_31_30 := p31 & p30;\n"
     ]
    }
   ],
   "source": [
    "for i in range(16):\n",
    "    print(f\"p_{2*i+1}_{2*i} := p{2*i+1} & p{2*i};\")\n",
    "    "
   ]
  },
  {
   "cell_type": "code",
   "execution_count": 113,
   "metadata": {},
   "outputs": [
    {
     "name": "stdout",
     "output_type": "stream",
     "text": [
      "g_3_0 := g_3_2 | ( p_3_2 & g_1_0 );\n",
      "g_7_4 := g_7_6 | ( p_7_6 & g_5_4 );\n",
      "g_11_8 := g_11_10 | ( p_11_10 & g_9_8 );\n",
      "g_15_12 := g_15_14 | ( p_15_14 & g_13_12 );\n",
      "g_19_16 := g_19_18 | ( p_19_18 & g_17_16 );\n",
      "g_23_20 := g_23_22 | ( p_23_22 & g_21_20 );\n",
      "g_27_24 := g_27_26 | ( p_27_26 & g_25_24 );\n",
      "g_31_28 := g_31_30 | ( p_31_30 & g_29_28 );\n"
     ]
    }
   ],
   "source": [
    "for i in range(8):\n",
    "    print(f\"g_{4*i+3}_{4*i} := g_{4*i+ 3}_{4*i+2} | ( p_{4*i+ 3}_{4*i+2} & g_{4*i + 1}_{4*i} );\")"
   ]
  },
  {
   "cell_type": "code",
   "execution_count": 114,
   "metadata": {},
   "outputs": [
    {
     "name": "stdout",
     "output_type": "stream",
     "text": [
      "p_3_0 := p_3_2 & p_1_0;\n",
      "p_7_4 := p_7_6 & p_5_4;\n",
      "p_11_8 := p_11_10 & p_9_8;\n",
      "p_15_12 := p_15_14 & p_13_12;\n",
      "p_19_16 := p_19_18 & p_17_16;\n",
      "p_23_20 := p_23_22 & p_21_20;\n",
      "p_27_24 := p_27_26 & p_25_24;\n",
      "p_31_28 := p_31_30 & p_29_28;\n"
     ]
    }
   ],
   "source": [
    "for i in range(8):\n",
    "    print(f\"p_{4*i+3}_{4*i} := p_{4*i+ 3}_{4*i+2} & p_{4*i + 1}_{4*i};\")"
   ]
  },
  {
   "cell_type": "code",
   "execution_count": 115,
   "metadata": {},
   "outputs": [
    {
     "name": "stdout",
     "output_type": "stream",
     "text": [
      "g_7_0 := g_7_4 | ( p_7_4 & g_3_0 );\n",
      "g_15_8 := g_15_12 | ( p_15_12 & g_11_8 );\n",
      "g_23_16 := g_23_20 | ( p_23_20 & g_19_16 );\n",
      "g_31_24 := g_31_28 | ( p_31_28 & g_27_24 );\n"
     ]
    }
   ],
   "source": [
    "for i in range(4):\n",
    "    print(f\"g_{8*i+7}_{8*i} := g_{8*i+ 7}_{8*i+4} | ( p_{8*i+ 7}_{8*i+4} & g_{8*i + 3}_{8*i} );\")"
   ]
  },
  {
   "cell_type": "code",
   "execution_count": 116,
   "metadata": {},
   "outputs": [
    {
     "name": "stdout",
     "output_type": "stream",
     "text": [
      "p_7_0 := p_7_4 & p_3_0;\n",
      "p_15_8 := p_15_12 & p_11_8;\n",
      "p_23_16 := p_23_20 & p_19_16;\n",
      "p_31_24 := p_31_28 & p_27_24;\n"
     ]
    }
   ],
   "source": [
    "for i in range(4):\n",
    "    print(f\"p_{8*i+7}_{8*i} := p_{8*i+ 7}_{8*i+4} & p_{8*i + 3}_{8*i};\")"
   ]
  },
  {
   "cell_type": "code",
   "execution_count": 117,
   "metadata": {},
   "outputs": [
    {
     "name": "stdout",
     "output_type": "stream",
     "text": [
      "g_15_0 := g_15_8 | ( p_15_8 & g_7_0 );\n",
      "g_31_16 := g_31_24 | ( p_31_24 & g_23_16 );\n"
     ]
    }
   ],
   "source": [
    "for i in range(2):\n",
    "    print(f\"g_{16*i+15}_{16*i} := g_{16*i+ 15}_{16*i+8} | ( p_{16*i+ 15}_{16*i+8} & g_{16*i + 7}_{16*i} );\")"
   ]
  },
  {
   "cell_type": "code",
   "execution_count": 118,
   "metadata": {},
   "outputs": [
    {
     "name": "stdout",
     "output_type": "stream",
     "text": [
      "p_15_0 := p_15_8 & p_7_0;\n",
      "p_31_16 := p_31_24 & p_23_16;\n"
     ]
    }
   ],
   "source": [
    "for i in range(2):\n",
    "    print(f\"p_{16*i+15}_{16*i} := p_{16*i+ 15}_{16*i+8} & p_{16*i + 7}_{16*i};\")"
   ]
  },
  {
   "cell_type": "code",
   "execution_count": 119,
   "metadata": {},
   "outputs": [
    {
     "name": "stdout",
     "output_type": "stream",
     "text": [
      "g_31_0 := g_31_16 | ( p_31_16 & g_15_0 );\n"
     ]
    }
   ],
   "source": [
    "for i in range(1):\n",
    "    print(f\"g_{32*i+31}_{32*i} := g_{32*i+ 31}_{32*i+16} | ( p_{32*i+ 31}_{32*i+16} & g_{32*i + 15}_{32*i} );\")"
   ]
  },
  {
   "cell_type": "code",
   "execution_count": 120,
   "metadata": {},
   "outputs": [
    {
     "name": "stdout",
     "output_type": "stream",
     "text": [
      "p_31_0 := p_31_16 & p_15_0;\n"
     ]
    }
   ],
   "source": [
    "for i in range(1):\n",
    "    print(f\"p_{32*i+31}_{32*i} := p_{32*i+ 31}_{32*i+16} & p_{32*i + 15}_{32*i};\")"
   ]
  },
  {
   "cell_type": "markdown",
   "metadata": {},
   "source": [
    "C_jp1 = ( p_i_j & c_i ) | g_i_j"
   ]
  },
  {
   "cell_type": "code",
   "execution_count": 121,
   "metadata": {},
   "outputs": [
    {
     "name": "stdout",
     "output_type": "stream",
     "text": [
      "c2 := g_1_0 | ( p_1_0 & c0 );\n",
      "c6 := g_5_4 | ( p_5_4 & c4 );\n",
      "c10 := g_9_8 | ( p_9_8 & c8 );\n",
      "c14 := g_13_12 | ( p_13_12 & c12 );\n",
      "c18 := g_17_16 | ( p_17_16 & c16 );\n",
      "c22 := g_21_20 | ( p_21_20 & c20 );\n",
      "c26 := g_25_24 | ( p_25_24 & c24 );\n",
      "c30 := g_29_28 | ( p_29_28 & c28 );\n"
     ]
    }
   ],
   "source": [
    "k = [\"Xb20 gk3_2 pk3_2 gk1_0 pk1_0 c0 gk3_0 pk3_0 c0 c2 modB\",\"Xb21 gk7_6 pk7_6 gk5_4 pk5_4 c4 gk7_4 pk7_4 c4 c6 modB\",\"Xb22 gk11_10 pk11_10 gk9_8 pk9_8 c8 gk11_8 pk11_8 c8 c10 modB\",\"Xb23 gk15_14 pk15_14 gk13_12 pk13_12 c12 gk15_12 pk15_12 c12 c14 modB\",\"Xb24 gk19_18 pk19_18 gk17_16 pk17_16 c16 gk19_16 pk19_16 c16 c18 modB\",\"Xb25 gk23_22 pk23_22 gk21_20 pk21_20 c20 gk23_20 pk23_20 c20 c22 modB\",\"Xb26 gk27_26 pk27_26 gk25_24 pk25_24 c24 gk27_24 pk27_24 c24 c26 modB\",\"Xb27 gk31_30 pk31_30 gk29_28 pk29_28 c28 gk31_28 pk31_28 c28 c30 modB\"]\n",
    "\n",
    "\n",
    "for i in k:\n",
    "    req_list = i.split(\" \")\n",
    "#     print(req_list)\n",
    "    l = req_list[3].replace(\"k\", \"_\")\n",
    "    g = req_list[4].strip().replace(\"k\", \"_\")\n",
    "    print(req_list[-2] + \" := \" + str(l) + \" | ( \" + str(g) + \" & \" + req_list[5] + \" );\" )\n"
   ]
  },
  {
   "cell_type": "code",
   "execution_count": 122,
   "metadata": {},
   "outputs": [
    {
     "name": "stdout",
     "output_type": "stream",
     "text": [
      "c4 := g_3_0 | ( p_3_0 & c0 );\n",
      "c12 := g_11_8 | ( p_11_8 & c8 );\n",
      "c20 := g_19_16 | ( p_19_16 & c16 );\n",
      "c28 := g_27_24 | ( p_27_24 & c24 );\n",
      "c8 := g_7_0 | ( p_7_0 & c0 );\n",
      "c24 := g_23_16 | ( p_23_16 & c16 );\n",
      "c16 := g_15_0 | ( p_15_0 & c0 );\n"
     ]
    }
   ],
   "source": [
    "m = [\"Xb30 gk7_4 pk7_4 gk3_0 pk3_0 c0 gk7_0 pk7_0 c0 c4 modB\",\n",
    "\"Xb31 gk15_12 pk15_12 gk11_8 pk11_8 c8 gk15_8 pk15_8 c8 c12 modB\",\n",
    "\"Xb32 gk23_20 pk23_20 gk19_16 pk19_16 c16 gk23_16 pk23_16 c16 c20 modB\",\n",
    "\"Xb33 gk31_28 pk31_28 gk27_24 pk27_24 c24 gk31_24 pk31_24 c24 c28 modB\",\n",
    "\"Xb40 gk15_8 pk15_8 gk7_0 pk7_0 c0 gk15_0 pk15_0 c0 c8 modB\",\n",
    "\"Xb41 gk31_24 pk31_24 gk23_16 pk23_16 c16 gk31_16 pk31_16 c16 c24 modB\",\n",
    "\"Xb50 gk31_16 pk31_16 gk15_0 pk15_0 c0 gk31_0 pk31_0 c0 c16 modB\"]\n",
    "\n",
    "for i in m:\n",
    "    req_list = i.split(\" \")\n",
    "#     print(req_list)\n",
    "    l = req_list[3].replace(\"k\", \"_\")\n",
    "    g = req_list[4].strip().replace(\"k\", \"_\")\n",
    "    print(req_list[-2] + \" := \" + str(l) + \" | ( \" + str(g) + \" & \" + req_list[5] + \" );\" )"
   ]
  },
  {
   "cell_type": "markdown",
   "metadata": {},
   "source": [
    "c1 := g0 | (p0 & c0);\n",
    "\n",
    "c3 := g2 | (p2 & c2);\n",
    "\n",
    "c5 := g4 | (p4 & c4);\n",
    "\n",
    "c7 := g6 | (p6 & c6); \n",
    "\n",
    "c9 := g8 | (p8 & c8);\n",
    "\n",
    "c11 := g10 | (p10 & c10); \n",
    "\n",
    "c13 := g12 | (p12 & c12);  \n",
    "\n",
    "c15 := g14 | (p14 & c14); \n",
    "\n",
    "c17 := g16 | (p16 & c16);  \n",
    "\n",
    "c19 := g18 | (p18 & c18);  \n",
    "\n",
    "c21 := g20 | (p20 & c20); \n",
    "\n",
    "c23 := g22 | (p22 & c22); \n",
    "\n",
    "c25 := g24 | (p24 & c24); \n",
    "\n",
    "c27 := g26 | (p26 & c26); \n",
    "\n",
    "c29 := g28 | (p28 & c28); \n",
    "\n",
    "c31 := g30 | (p30 & c30);"
   ]
  },
  {
   "cell_type": "code",
   "execution_count": 126,
   "metadata": {},
   "outputs": [
    {
     "name": "stdout",
     "output_type": "stream",
     "text": [
      "OG_S0 := ODD(A0, XB0, OG_C0);\n",
      "OG_C1 := OR(AND(A0,C0),AND(A0,XB0),AND(C0,XB0));\n",
      "OG_S1 := ODD(A1, XB1, OG_C1);\n",
      "OG_C2 := OR(AND(A1,C1),AND(A1,XB1),AND(C1,XB1));\n",
      "OG_S2 := ODD(A2, XB2, OG_C2);\n",
      "OG_C3 := OR(AND(A2,C2),AND(A2,XB2),AND(C2,XB2));\n",
      "OG_S3 := ODD(A3, XB3, OG_C3);\n",
      "OG_C4 := OR(AND(A3,C3),AND(A3,XB3),AND(C3,XB3));\n",
      "OG_S4 := ODD(A4, XB4, OG_C4);\n",
      "OG_C5 := OR(AND(A4,C4),AND(A4,XB4),AND(C4,XB4));\n",
      "OG_S5 := ODD(A5, XB5, OG_C5);\n",
      "OG_C6 := OR(AND(A5,C5),AND(A5,XB5),AND(C5,XB5));\n",
      "OG_S6 := ODD(A6, XB6, OG_C6);\n",
      "OG_C7 := OR(AND(A6,C6),AND(A6,XB6),AND(C6,XB6));\n",
      "OG_S7 := ODD(A7, XB7, OG_C7);\n",
      "OG_C8 := OR(AND(A7,C7),AND(A7,XB7),AND(C7,XB7));\n",
      "OG_S8 := ODD(A8, XB8, OG_C8);\n",
      "OG_C9 := OR(AND(A8,C8),AND(A8,XB8),AND(C8,XB8));\n",
      "OG_S9 := ODD(A9, XB9, OG_C9);\n",
      "OG_C10 := OR(AND(A9,C9),AND(A9,XB9),AND(C9,XB9));\n",
      "OG_S10 := ODD(A10, XB10, OG_C10);\n",
      "OG_C11 := OR(AND(A10,C10),AND(A10,XB10),AND(C10,XB10));\n",
      "OG_S11 := ODD(A11, XB11, OG_C11);\n",
      "OG_C12 := OR(AND(A11,C11),AND(A11,XB11),AND(C11,XB11));\n",
      "OG_S12 := ODD(A12, XB12, OG_C12);\n",
      "OG_C13 := OR(AND(A12,C12),AND(A12,XB12),AND(C12,XB12));\n",
      "OG_S13 := ODD(A13, XB13, OG_C13);\n",
      "OG_C14 := OR(AND(A13,C13),AND(A13,XB13),AND(C13,XB13));\n",
      "OG_S14 := ODD(A14, XB14, OG_C14);\n",
      "OG_C15 := OR(AND(A14,C14),AND(A14,XB14),AND(C14,XB14));\n",
      "OG_S15 := ODD(A15, XB15, OG_C15);\n",
      "OG_C16 := OR(AND(A15,C15),AND(A15,XB15),AND(C15,XB15));\n",
      "OG_S16 := ODD(A16, XB16, OG_C16);\n",
      "OG_C17 := OR(AND(A16,C16),AND(A16,XB16),AND(C16,XB16));\n",
      "OG_S17 := ODD(A17, XB17, OG_C17);\n",
      "OG_C18 := OR(AND(A17,C17),AND(A17,XB17),AND(C17,XB17));\n",
      "OG_S18 := ODD(A18, XB18, OG_C18);\n",
      "OG_C19 := OR(AND(A18,C18),AND(A18,XB18),AND(C18,XB18));\n",
      "OG_S19 := ODD(A19, XB19, OG_C19);\n",
      "OG_C20 := OR(AND(A19,C19),AND(A19,XB19),AND(C19,XB19));\n",
      "OG_S20 := ODD(A20, XB20, OG_C20);\n",
      "OG_C21 := OR(AND(A20,C20),AND(A20,XB20),AND(C20,XB20));\n",
      "OG_S21 := ODD(A21, XB21, OG_C21);\n",
      "OG_C22 := OR(AND(A21,C21),AND(A21,XB21),AND(C21,XB21));\n",
      "OG_S22 := ODD(A22, XB22, OG_C22);\n",
      "OG_C23 := OR(AND(A22,C22),AND(A22,XB22),AND(C22,XB22));\n",
      "OG_S23 := ODD(A23, XB23, OG_C23);\n",
      "OG_C24 := OR(AND(A23,C23),AND(A23,XB23),AND(C23,XB23));\n",
      "OG_S24 := ODD(A24, XB24, OG_C24);\n",
      "OG_C25 := OR(AND(A24,C24),AND(A24,XB24),AND(C24,XB24));\n",
      "OG_S25 := ODD(A25, XB25, OG_C25);\n",
      "OG_C26 := OR(AND(A25,C25),AND(A25,XB25),AND(C25,XB25));\n",
      "OG_S26 := ODD(A26, XB26, OG_C26);\n",
      "OG_C27 := OR(AND(A26,C26),AND(A26,XB26),AND(C26,XB26));\n",
      "OG_S27 := ODD(A27, XB27, OG_C27);\n",
      "OG_C28 := OR(AND(A27,C27),AND(A27,XB27),AND(C27,XB27));\n",
      "OG_S28 := ODD(A28, XB28, OG_C28);\n",
      "OG_C29 := OR(AND(A28,C28),AND(A28,XB28),AND(C28,XB28));\n",
      "OG_S29 := ODD(A29, XB29, OG_C29);\n",
      "OG_C30 := OR(AND(A29,C29),AND(A29,XB29),AND(C29,XB29));\n",
      "OG_S30 := ODD(A30, XB30, OG_C30);\n",
      "OG_C31 := OR(AND(A30,C30),AND(A30,XB30),AND(C30,XB30));\n",
      "OG_S31 := ODD(A31, XB31, OG_C31);\n",
      "OG_C32 := OR(AND(A31,C31),AND(A31,XB31),AND(C31,XB31));\n",
      "OG_C0 := ALUFN0;\n"
     ]
    }
   ],
   "source": [
    "for i in range(32):\n",
    "    print(\"OG_S{} := ODD(A{}, XB{}, OG_C{});\".format(i,i,i,i))\n",
    "    #print(\"OG_C{} := NOT(AND(NOT(AND(A{},C{})),NOT(AND(A{},XB{})),NOT(AND(X{},B{}))));\".format(i+1,i,i,i,i,i,i))\n",
    "    print(\"OG_C{} := OR(AND(A{},C{}),AND(A{},XB{}),AND(C{},XB{}));\".format(i+1,i,i,i,i,i,i))\n",
    "print(\"OG_C0 := ALUFN0;\")"
   ]
  },
  {
   "cell_type": "code",
   "execution_count": 127,
   "metadata": {},
   "outputs": [
    {
     "name": "stdout",
     "output_type": "stream",
     "text": [
      "XB0 := ODD(ALUFN0, B0);\n",
      "S0 := ODD(ODD(A0, XB0),C0);\n",
      "P0 := OR(A0,XB0);\n",
      "G0 := AND(A0,XB0);\n",
      "XB1 := ODD(ALUFN0, B1);\n",
      "S1 := ODD(ODD(A1, XB1),C1);\n",
      "P1 := OR(A1,XB1);\n",
      "G1 := AND(A1,XB1);\n",
      "XB2 := ODD(ALUFN0, B2);\n",
      "S2 := ODD(ODD(A2, XB2),C2);\n",
      "P2 := OR(A2,XB2);\n",
      "G2 := AND(A2,XB2);\n",
      "XB3 := ODD(ALUFN0, B3);\n",
      "S3 := ODD(ODD(A3, XB3),C3);\n",
      "P3 := OR(A3,XB3);\n",
      "G3 := AND(A3,XB3);\n",
      "XB4 := ODD(ALUFN0, B4);\n",
      "S4 := ODD(ODD(A4, XB4),C4);\n",
      "P4 := OR(A4,XB4);\n",
      "G4 := AND(A4,XB4);\n",
      "XB5 := ODD(ALUFN0, B5);\n",
      "S5 := ODD(ODD(A5, XB5),C5);\n",
      "P5 := OR(A5,XB5);\n",
      "G5 := AND(A5,XB5);\n",
      "XB6 := ODD(ALUFN0, B6);\n",
      "S6 := ODD(ODD(A6, XB6),C6);\n",
      "P6 := OR(A6,XB6);\n",
      "G6 := AND(A6,XB6);\n",
      "XB7 := ODD(ALUFN0, B7);\n",
      "S7 := ODD(ODD(A7, XB7),C7);\n",
      "P7 := OR(A7,XB7);\n",
      "G7 := AND(A7,XB7);\n",
      "XB8 := ODD(ALUFN0, B8);\n",
      "S8 := ODD(ODD(A8, XB8),C8);\n",
      "P8 := OR(A8,XB8);\n",
      "G8 := AND(A8,XB8);\n",
      "XB9 := ODD(ALUFN0, B9);\n",
      "S9 := ODD(ODD(A9, XB9),C9);\n",
      "P9 := OR(A9,XB9);\n",
      "G9 := AND(A9,XB9);\n",
      "XB10 := ODD(ALUFN0, B10);\n",
      "S10 := ODD(ODD(A10, XB10),C10);\n",
      "P10 := OR(A10,XB10);\n",
      "G10 := AND(A10,XB10);\n",
      "XB11 := ODD(ALUFN0, B11);\n",
      "S11 := ODD(ODD(A11, XB11),C11);\n",
      "P11 := OR(A11,XB11);\n",
      "G11 := AND(A11,XB11);\n",
      "XB12 := ODD(ALUFN0, B12);\n",
      "S12 := ODD(ODD(A12, XB12),C12);\n",
      "P12 := OR(A12,XB12);\n",
      "G12 := AND(A12,XB12);\n",
      "XB13 := ODD(ALUFN0, B13);\n",
      "S13 := ODD(ODD(A13, XB13),C13);\n",
      "P13 := OR(A13,XB13);\n",
      "G13 := AND(A13,XB13);\n",
      "XB14 := ODD(ALUFN0, B14);\n",
      "S14 := ODD(ODD(A14, XB14),C14);\n",
      "P14 := OR(A14,XB14);\n",
      "G14 := AND(A14,XB14);\n",
      "XB15 := ODD(ALUFN0, B15);\n",
      "S15 := ODD(ODD(A15, XB15),C15);\n",
      "P15 := OR(A15,XB15);\n",
      "G15 := AND(A15,XB15);\n",
      "XB16 := ODD(ALUFN0, B16);\n",
      "S16 := ODD(ODD(A16, XB16),C16);\n",
      "P16 := OR(A16,XB16);\n",
      "G16 := AND(A16,XB16);\n",
      "XB17 := ODD(ALUFN0, B17);\n",
      "S17 := ODD(ODD(A17, XB17),C17);\n",
      "P17 := OR(A17,XB17);\n",
      "G17 := AND(A17,XB17);\n",
      "XB18 := ODD(ALUFN0, B18);\n",
      "S18 := ODD(ODD(A18, XB18),C18);\n",
      "P18 := OR(A18,XB18);\n",
      "G18 := AND(A18,XB18);\n",
      "XB19 := ODD(ALUFN0, B19);\n",
      "S19 := ODD(ODD(A19, XB19),C19);\n",
      "P19 := OR(A19,XB19);\n",
      "G19 := AND(A19,XB19);\n",
      "XB20 := ODD(ALUFN0, B20);\n",
      "S20 := ODD(ODD(A20, XB20),C20);\n",
      "P20 := OR(A20,XB20);\n",
      "G20 := AND(A20,XB20);\n",
      "XB21 := ODD(ALUFN0, B21);\n",
      "S21 := ODD(ODD(A21, XB21),C21);\n",
      "P21 := OR(A21,XB21);\n",
      "G21 := AND(A21,XB21);\n",
      "XB22 := ODD(ALUFN0, B22);\n",
      "S22 := ODD(ODD(A22, XB22),C22);\n",
      "P22 := OR(A22,XB22);\n",
      "G22 := AND(A22,XB22);\n",
      "XB23 := ODD(ALUFN0, B23);\n",
      "S23 := ODD(ODD(A23, XB23),C23);\n",
      "P23 := OR(A23,XB23);\n",
      "G23 := AND(A23,XB23);\n",
      "XB24 := ODD(ALUFN0, B24);\n",
      "S24 := ODD(ODD(A24, XB24),C24);\n",
      "P24 := OR(A24,XB24);\n",
      "G24 := AND(A24,XB24);\n",
      "XB25 := ODD(ALUFN0, B25);\n",
      "S25 := ODD(ODD(A25, XB25),C25);\n",
      "P25 := OR(A25,XB25);\n",
      "G25 := AND(A25,XB25);\n",
      "XB26 := ODD(ALUFN0, B26);\n",
      "S26 := ODD(ODD(A26, XB26),C26);\n",
      "P26 := OR(A26,XB26);\n",
      "G26 := AND(A26,XB26);\n",
      "XB27 := ODD(ALUFN0, B27);\n",
      "S27 := ODD(ODD(A27, XB27),C27);\n",
      "P27 := OR(A27,XB27);\n",
      "G27 := AND(A27,XB27);\n",
      "XB28 := ODD(ALUFN0, B28);\n",
      "S28 := ODD(ODD(A28, XB28),C28);\n",
      "P28 := OR(A28,XB28);\n",
      "G28 := AND(A28,XB28);\n",
      "XB29 := ODD(ALUFN0, B29);\n",
      "S29 := ODD(ODD(A29, XB29),C29);\n",
      "P29 := OR(A29,XB29);\n",
      "G29 := AND(A29,XB29);\n",
      "XB30 := ODD(ALUFN0, B30);\n",
      "S30 := ODD(ODD(A30, XB30),C30);\n",
      "P30 := OR(A30,XB30);\n",
      "G30 := AND(A30,XB30);\n",
      "XB31 := ODD(ALUFN0, B31);\n",
      "S31 := ODD(ODD(A31, XB31),C31);\n",
      "P31 := OR(A31,XB31);\n",
      "G31 := AND(A31,XB31);\n",
      "inv_G0_1 := NOT(OR(AND(G0,P1),G1));\n",
      "inv_P0_1 := NOT(AND(P0,P1));\n",
      "inv_C1 := NOT(OR(AND(P0,C0),G0));\n",
      "inv_G2_3 := NOT(OR(AND(G2,P3),G3));\n",
      "inv_P2_3 := NOT(AND(P2,P3));\n",
      "inv_C3 := NOT(OR(AND(P2,C2),G2));\n",
      "inv_G4_5 := NOT(OR(AND(G4,P5),G5));\n",
      "inv_P4_5 := NOT(AND(P4,P5));\n",
      "inv_C5 := NOT(OR(AND(P4,C4),G4));\n",
      "inv_G6_7 := NOT(OR(AND(G6,P7),G7));\n",
      "inv_P6_7 := NOT(AND(P6,P7));\n",
      "inv_C7 := NOT(OR(AND(P6,C6),G6));\n",
      "inv_G8_9 := NOT(OR(AND(G8,P9),G9));\n",
      "inv_P8_9 := NOT(AND(P8,P9));\n",
      "inv_C9 := NOT(OR(AND(P8,C8),G8));\n",
      "inv_G10_11 := NOT(OR(AND(G10,P11),G11));\n",
      "inv_P10_11 := NOT(AND(P10,P11));\n",
      "inv_C11 := NOT(OR(AND(P10,C10),G10));\n",
      "inv_G12_13 := NOT(OR(AND(G12,P13),G13));\n",
      "inv_P12_13 := NOT(AND(P12,P13));\n",
      "inv_C13 := NOT(OR(AND(P12,C12),G12));\n",
      "inv_G14_15 := NOT(OR(AND(G14,P15),G15));\n",
      "inv_P14_15 := NOT(AND(P14,P15));\n",
      "inv_C15 := NOT(OR(AND(P14,C14),G14));\n",
      "inv_G16_17 := NOT(OR(AND(G16,P17),G17));\n",
      "inv_P16_17 := NOT(AND(P16,P17));\n",
      "inv_C17 := NOT(OR(AND(P16,C16),G16));\n",
      "inv_G18_19 := NOT(OR(AND(G18,P19),G19));\n",
      "inv_P18_19 := NOT(AND(P18,P19));\n",
      "inv_C19 := NOT(OR(AND(P18,C18),G18));\n",
      "inv_G20_21 := NOT(OR(AND(G20,P21),G21));\n",
      "inv_P20_21 := NOT(AND(P20,P21));\n",
      "inv_C21 := NOT(OR(AND(P20,C20),G20));\n",
      "inv_G22_23 := NOT(OR(AND(G22,P23),G23));\n",
      "inv_P22_23 := NOT(AND(P22,P23));\n",
      "inv_C23 := NOT(OR(AND(P22,C22),G22));\n",
      "inv_G24_25 := NOT(OR(AND(G24,P25),G25));\n",
      "inv_P24_25 := NOT(AND(P24,P25));\n",
      "inv_C25 := NOT(OR(AND(P24,C24),G24));\n",
      "inv_G26_27 := NOT(OR(AND(G26,P27),G27));\n",
      "inv_P26_27 := NOT(AND(P26,P27));\n",
      "inv_C27 := NOT(OR(AND(P26,C26),G26));\n",
      "inv_G28_29 := NOT(OR(AND(G28,P29),G29));\n",
      "inv_P28_29 := NOT(AND(P28,P29));\n",
      "inv_C29 := NOT(OR(AND(P28,C28),G28));\n",
      "inv_G30_31 := NOT(OR(AND(G30,P31),G31));\n",
      "inv_P30_31 := NOT(AND(P30,P31));\n",
      "inv_C31 := NOT(OR(AND(P30,C30),G30));\n",
      "G0_3 := NOT(AND(OR(inv_G0_1,inv_P0_1),inv_G2_3));\n",
      "P0_3 := NOT(OR(inv_P0_1,inv_P2_3));\n",
      "C2 := NOT(AND(OR(inv_P0_1,inv_C0),inv_G0_1));\n",
      "G4_7 := NOT(AND(OR(inv_G4_5,inv_P4_5),inv_G6_7));\n",
      "P4_7 := NOT(OR(inv_P4_5,inv_P6_7));\n",
      "C6 := NOT(AND(OR(inv_P4_5,inv_C4),inv_G4_5));\n",
      "G8_11 := NOT(AND(OR(inv_G8_9,inv_P8_9),inv_G10_11));\n",
      "P8_11 := NOT(OR(inv_P8_9,inv_P10_11));\n",
      "C10 := NOT(AND(OR(inv_P8_9,inv_C8),inv_G8_9));\n",
      "G12_15 := NOT(AND(OR(inv_G12_13,inv_P12_13),inv_G14_15));\n",
      "P12_15 := NOT(OR(inv_P12_13,inv_P14_15));\n",
      "C14 := NOT(AND(OR(inv_P12_13,inv_C12),inv_G12_13));\n",
      "G16_19 := NOT(AND(OR(inv_G16_17,inv_P16_17),inv_G18_19));\n",
      "P16_19 := NOT(OR(inv_P16_17,inv_P18_19));\n",
      "C18 := NOT(AND(OR(inv_P16_17,inv_C16),inv_G16_17));\n",
      "G20_23 := NOT(AND(OR(inv_G20_21,inv_P20_21),inv_G22_23));\n",
      "P20_23 := NOT(OR(inv_P20_21,inv_P22_23));\n",
      "C22 := NOT(AND(OR(inv_P20_21,inv_C20),inv_G20_21));\n",
      "G24_27 := NOT(AND(OR(inv_G24_25,inv_P24_25),inv_G26_27));\n",
      "P24_27 := NOT(OR(inv_P24_25,inv_P26_27));\n",
      "C26 := NOT(AND(OR(inv_P24_25,inv_C24),inv_G24_25));\n",
      "G28_31 := NOT(AND(OR(inv_G28_29,inv_P28_29),inv_G30_31));\n",
      "P28_31 := NOT(OR(inv_P28_29,inv_P30_31));\n",
      "C30 := NOT(AND(OR(inv_P28_29,inv_C28),inv_G28_29));\n",
      "inv_G0_7 := NOT(OR(AND(G0_3,P0_3),G4_7));\n",
      "inv_P0_7 := NOT(AND(P0_3,P4_7));\n",
      "inv_C4 := NOT(OR(AND(P0_3,C0),G0_3));\n",
      "inv_G8_15 := NOT(OR(AND(G8_11,P8_11),G12_15));\n",
      "inv_P8_15 := NOT(AND(P8_11,P12_15));\n",
      "inv_C12 := NOT(OR(AND(P8_11,C8),G8_11));\n",
      "inv_G16_23 := NOT(OR(AND(G16_19,P16_19),G20_23));\n",
      "inv_P16_23 := NOT(AND(P16_19,P20_23));\n",
      "inv_C20 := NOT(OR(AND(P16_19,C16),G16_19));\n",
      "inv_G24_31 := NOT(OR(AND(G24_27,P24_27),G28_31));\n",
      "inv_P24_31 := NOT(AND(P24_27,P28_31));\n",
      "inv_C28 := NOT(OR(AND(P24_27,C24),G24_27));\n",
      "G0_15 := NOT(AND(OR(inv_G0_7,inv_P0_7),inv_G8_15));\n",
      "P0_15 := NOT(OR(inv_P0_7,inv_P8_15));\n",
      "C8 := NOT(AND(OR(inv_P0_7,inv_C0),inv_G0_7));\n",
      "G16_31 := NOT(AND(OR(inv_G16_23,inv_P16_23),inv_G24_31));\n",
      "P16_31 := NOT(OR(inv_P16_23,inv_P24_31));\n",
      "C24 := NOT(AND(OR(inv_P16_23,inv_C16),inv_G16_23));\n",
      "inv_G0_31 := NOT(OR(AND(G0_15,P0_15),G16_31));\n",
      "inv_P0_31 := NOT(AND(P0_15,P16_31));\n",
      "inv_C16 := NOT(OR(AND(P0_15,C0),G0_15));\n",
      "inv_C0 := NOT(C0);\n",
      "C1 := NOT(inv_C1);\n",
      "C3 := NOT(inv_C3);\n",
      "C4 := NOT(inv_C4);\n",
      "C5 := NOT(inv_C5);\n",
      "C7 := NOT(inv_C7);\n",
      "inv_C8 := NOT(C8);\n",
      "C9 := NOT(inv_C9);\n",
      "C11 := NOT(inv_C11);\n",
      "C12 := NOT(inv_C12);\n",
      "C13 := NOT(inv_C13);\n",
      "C15 := NOT(inv_C15);\n",
      "C16 := NOT(inv_C16);\n",
      "C17 := NOT(inv_C17);\n",
      "C19 := NOT(inv_C19);\n",
      "C20 := NOT(inv_C20);\n",
      "C21 := NOT(inv_C21);\n",
      "C23 := NOT(inv_C23);\n",
      "inv_C24 := NOT(C24);\n",
      "C25 := NOT(inv_C25);\n",
      "C27 := NOT(inv_C27);\n",
      "C28 := NOT(inv_C28);\n",
      "C29 := NOT(inv_C29);\n",
      "C31 := NOT(inv_C31);\n"
     ]
    }
   ],
   "source": [
    "for i in range(32):\n",
    "    print(\"XB{} := ODD(ALUFN0, B{});\".format(i,i))\n",
    "    print(\"S{} := ODD(ODD(A{}, XB{}),C{});\".format(i,i,i,i))\n",
    "    print(\"P{} := OR(A{},XB{});\".format(i,i,i))\n",
    "    print(\"G{} := AND(A{},XB{});\".format(i,i,i))\n",
    "for i in range(0,32,2):\n",
    "    print(\"inv_G{}_{} := NOT(OR(AND(G{},P{}),G{}));\".format(i,i+1,i,i+1,i+1))\n",
    "    print(\"inv_P{}_{} := NOT(AND(P{},P{}));\".format(i,i+1,i,i+1))\n",
    "    print(\"inv_C{} := NOT(OR(AND(P{},C{}),G{}));\".format(i+1,i,i,i))\n",
    "for i in range(0,32,4):\n",
    "    print(\"G{}_{} := NOT(AND(OR(inv_G{}_{},inv_P{}_{}),inv_G{}_{}));\".format(\n",
    "        i,i+3,i,i+1,i,i+1,i+2,i+3))\n",
    "    print(\"P{}_{} := NOT(OR(inv_P{}_{},inv_P{}_{}));\".format(\n",
    "        i,i+3,i,i+1,i+2,i+3))\n",
    "    print(\"C{} := NOT(AND(OR(inv_P{}_{},inv_C{}),inv_G{}_{}));\".format(\n",
    "        i+2,i,i+1,i,i,i+1))\n",
    "for i in range(0,32,8):\n",
    "    print(\"inv_G{}_{} := NOT(OR(AND(G{}_{},P{}_{}),G{}_{}));\".format(\n",
    "        i,i+7,i,i+3,i,i+3,i+4,i+7))\n",
    "    print(\"inv_P{}_{} := NOT(AND(P{}_{},P{}_{}));\".format(\n",
    "        i,i+7,i,i+3,i+4,i+7))\n",
    "    print(\"inv_C{} := NOT(OR(AND(P{}_{},C{}),G{}_{}));\".format(\n",
    "        i+4,i,i+3,i,i,i+3))\n",
    "for i in range(0,32,16):\n",
    "    print(\"G{}_{} := NOT(AND(OR(inv_G{}_{},inv_P{}_{}),inv_G{}_{}));\".format(\n",
    "        i,i+15,i,i+7,i,i+7,i+8,i+15))\n",
    "    print(\"P{}_{} := NOT(OR(inv_P{}_{},inv_P{}_{}));\".format(\n",
    "        i,i+15,i,i+7,i+8,i+15))\n",
    "    print(\"C{} := NOT(AND(OR(inv_P{}_{},inv_C{}),inv_G{}_{}));\".format(\n",
    "        i+8,i,i+7,i,i,i+7))\n",
    "for i in range(0,32,32):\n",
    "    print(\"inv_G{}_{} := NOT(OR(AND(G{}_{},P{}_{}),G{}_{}));\".format(\n",
    "        i,i+31,i,i+15,i,i+15,i+16,i+31))\n",
    "    print(\"inv_P{}_{} := NOT(AND(P{}_{},P{}_{}));\".format(\n",
    "        i,i+31,i,i+15,i+16,i+31))\n",
    "    print(\"inv_C{} := NOT(OR(AND(P{}_{},C{}),G{}_{}));\".format(\n",
    "        i+16,i,i+15,i,i,i+15))\n",
    "\n",
    "inverter_stuff = ['Xinv0 C0 inv_c0 inverter ', 'Xinv1 inv_C1 C1 inverter', 'Xinv3 inv_C3 C3 inverter', 'Xinv4 inv_C4 C4 inverter', 'Xinv5 inv_C5 C5 inverter', 'Xinv7 inv_C7 C7 inverter', 'Xinv8 C8 inv_C8 inverter', 'Xinv9 inv_C9 C9 inverter', 'Xinv11 inv_C11 C11 inverter', 'Xinv12 inv_C12 C12 inverter', 'Xinv13 inv_C13 C13 inverter', 'Xinv15 inv_C15 C15 inverter', 'Xinv16 inv_C16 C16 inverter', 'Xinv17 inv_C17 C17 inverter', 'Xinv19 inv_C19 C19 inverter', 'Xinv20 inv_C20 C20 inverter', 'Xinv21 inv_C21 C21 inverter', 'Xinv23 inv_C23 C23 inverter', 'Xinv24 C24 inv_C24 inverter', 'Xinv25 inv_C25 C25 inverter', 'Xinv27 inv_C27 C27 inverter', 'Xinv28 inv_C28 C28 inverter', 'Xinv29 inv_C29 C29 inverter', 'Xinv31 inv_C31 C31 inverter']\n",
    "for sutff in inverter_stuff:\n",
    "    newlist = sutff.split(\" \")\n",
    "    if newlist[1][0] == 'C':\n",
    "        print(\"inv_C{} := NOT(C{});\".format(newlist[1][1:],newlist[1][1:]))\n",
    "    if newlist[1][:3] == 'inv':\n",
    "        print(\"C{} := NOT(inv_C{});\".format(newlist[1][5:],newlist[1][5:]))"
   ]
  },
  {
   "cell_type": "code",
   "execution_count": 125,
   "metadata": {},
   "outputs": [],
   "source": [
    "# fh = open(r\"D:\\50.002\\CLA_BC.bc.txt\", \"r\")\n",
    "# wh = open(r\"D:\\50.002\\CLA_BC.bc.txt\", \"a\")\n",
    "# d = dict()\n",
    "# for i in fh:\n",
    "#     j = i + \";\"\n",
    "    "
   ]
  },
  {
   "cell_type": "code",
   "execution_count": null,
   "metadata": {},
   "outputs": [],
   "source": []
  }
 ],
 "metadata": {
  "kernelspec": {
   "display_name": "Python 3",
   "language": "python",
   "name": "python3"
  },
  "language_info": {
   "codemirror_mode": {
    "name": "ipython",
    "version": 3
   },
   "file_extension": ".py",
   "mimetype": "text/x-python",
   "name": "python",
   "nbconvert_exporter": "python",
   "pygments_lexer": "ipython3",
   "version": "3.7.6"
  }
 },
 "nbformat": 4,
 "nbformat_minor": 4
}
